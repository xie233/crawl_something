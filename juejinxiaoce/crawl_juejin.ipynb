{
 "cells": [
  {
   "cell_type": "markdown",
   "metadata": {},
   "source": [
    "# The code is to make juejin book(xiaoce) to markdown or html format\n",
    "1. you need your own token as cookie\n",
    "2. provide booklet_id to crawl what you want"
   ]
  },
  {
   "cell_type": "code",
   "execution_count": null,
   "metadata": {
    "ExecuteTime": {
     "end_time": "2022-07-17T14:56:40.892773Z",
     "start_time": "2022-07-17T14:56:40.818894Z"
    }
   },
   "outputs": [],
   "source": [
    "import requests\n",
    "import json\n",
    "def generateValue(booklet_id):\n",
    "    url = \"https://api.juejin.cn/booklet_api/v1/booklet/get\"\n",
    "\n",
    "    trick_header = {'user-agent': 'Mozilla/5.0 (Macintosh; Intel Mac OS X 10_15_6) AppleWebKit/537.36 (KHTML, like Gecko) Chrome/103.0.0.0 Safari/537.36'}\n",
    "\n",
    "    data = {\n",
    "        \"aid\": \"xxx\",\n",
    "        \"uuid\": \"xxxxxxxxxx\",\n",
    "        \"booklet_id\": booklet_id\n",
    "    }\n",
    "    \n",
    "\n",
    "\n",
    "    response = requests.post(url, headers = trick_header, data = data)\n",
    "    if response.status_code == 200:\n",
    "        return response\n",
    "    else:\n",
    "        print(booklet_id, \" not ok\")"
   ]
  },
  {
   "cell_type": "code",
   "execution_count": null,
   "metadata": {
    "ExecuteTime": {
     "end_time": "2022-07-17T14:56:41.311182Z",
     "start_time": "2022-07-17T14:56:40.895608Z"
    }
   },
   "outputs": [],
   "source": [
    "#get list of section id\n",
    "#provide your booklet_id\n",
    "seclist = generateValue('6844733769996304392')\n",
    "base_info = seclist.json()['data']['booklet']['base_info']\n",
    "title = base_info['title']\n",
    "section_ids = base_info['section_ids']"
   ]
  },
  {
   "cell_type": "code",
   "execution_count": null,
   "metadata": {
    "ExecuteTime": {
     "end_time": "2022-07-17T14:56:41.328764Z",
     "start_time": "2022-07-17T14:56:41.322190Z"
    }
   },
   "outputs": [],
   "source": [
    "import requests\n",
    "import json\n",
    "def generateValue2(section_id):\n",
    "    url = \"https://api.juejin.cn/booklet_api/v1/section/get\"\n",
    "\n",
    "    trick_header = {'user-agent': 'Mozilla/5.0 (Macintosh; Intel Mac OS X 10_15_6) AppleWebKit/537.36 (KHTML, like Gecko) Chrome/103.0.0.0 Safari/537.36'\n",
    "                }\n",
    "\n",
    "    data = {\n",
    "        \"aid\": \"xxx\",\n",
    "        \"uuid\": \"xxxxxxxx\",\n",
    "        \"section_id\": section_id\n",
    "    }\n",
    "    \n",
    "    \n",
    "    cookies = {'sessionid': 'xxxxx',\n",
    "              'passport_csrf_token':'xxxxxx'}\n",
    "\n",
    "    response = requests.post(url, headers = trick_header, cookies = cookies, json = data)\n",
    "    if response.status_code == 200:\n",
    "        return response\n",
    "    else:\n",
    "        print(section_id, \" not ok\")"
   ]
  },
  {
   "cell_type": "code",
   "execution_count": null,
   "metadata": {
    "ExecuteTime": {
     "end_time": "2022-07-17T15:16:11.482478Z",
     "start_time": "2022-07-17T15:16:11.479506Z"
    }
   },
   "outputs": [],
   "source": [
    "illegal = '\\/:*?\"<>|'"
   ]
  },
  {
   "cell_type": "code",
   "execution_count": null,
   "metadata": {
    "ExecuteTime": {
     "end_time": "2022-07-17T15:21:10.745534Z",
     "start_time": "2022-07-17T15:19:37.059640Z"
    }
   },
   "outputs": [],
   "source": [
    "import time\n",
    "import markdown\n",
    "for i, section_id in enumerate(section_ids.split('|')):\n",
    "    index = i + 1;\n",
    "    section_resp = generateValue2(section_id)\n",
    "    section = section_resp.json()['data']['section']\n",
    "    md = section['markdown_show']\n",
    "    sec_title = str(index) + '. '  + section['title']\n",
    "    if md == '':\n",
    "        md = section['content']\n",
    "    for specialChar in illegal:\n",
    "        sec_title = sec_title.replace(specialChar, '')\n",
    "    sec_md = sec_title + '.md'\n",
    "    sec_html = sec_title + '.html'\n",
    "    with open(sec_md, \"w\") as f:\n",
    "        f.write(md)\n",
    "    markdown.markdownFromFile(\n",
    "        input=sec_md,\n",
    "        output=sec_html,\n",
    "        encoding='utf8',\n",
    "    )\n",
    "    time.sleep(5.1)"
   ]
  },
  {
   "cell_type": "code",
   "execution_count": null,
   "metadata": {},
   "outputs": [],
   "source": []
  }
 ],
 "metadata": {
  "kernelspec": {
   "display_name": "Python 3",
   "language": "python",
   "name": "python3"
  },
  "language_info": {
   "codemirror_mode": {
    "name": "ipython",
    "version": 3
   },
   "file_extension": ".py",
   "mimetype": "text/x-python",
   "name": "python",
   "nbconvert_exporter": "python",
   "pygments_lexer": "ipython3",
   "version": "3.8.5"
  },
  "toc": {
   "base_numbering": 1,
   "nav_menu": {},
   "number_sections": true,
   "sideBar": true,
   "skip_h1_title": false,
   "title_cell": "Table of Contents",
   "title_sidebar": "Contents",
   "toc_cell": false,
   "toc_position": {},
   "toc_section_display": true,
   "toc_window_display": false
  },
  "varInspector": {
   "cols": {
    "lenName": 16,
    "lenType": 16,
    "lenVar": 40
   },
   "kernels_config": {
    "python": {
     "delete_cmd_postfix": "",
     "delete_cmd_prefix": "del ",
     "library": "var_list.py",
     "varRefreshCmd": "print(var_dic_list())"
    },
    "r": {
     "delete_cmd_postfix": ") ",
     "delete_cmd_prefix": "rm(",
     "library": "var_list.r",
     "varRefreshCmd": "cat(var_dic_list()) "
    }
   },
   "types_to_exclude": [
    "module",
    "function",
    "builtin_function_or_method",
    "instance",
    "_Feature"
   ],
   "window_display": false
  }
 },
 "nbformat": 4,
 "nbformat_minor": 4
}
